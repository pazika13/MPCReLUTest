


import torch
import torch.utils.data
import torchvision
from NssMPC.application.neural_network.utils.converter import load_model
from NssMPC.application.neural_network.utils.converter import share_model
from NssMPC.application.neural_network.utils.converter import share_data


# training AlexNet
exec(open('..\data\AlexNet\Alexnet_MNIST_train.py').read())





from data.AlexNet.Alexnet import AlexNet
from NssMPC.application.neural_network.party.neural_network_party import NeuralNetworkCS








import threading

# set Server
server = NeuralNetworkCS(type='server')

def set_server():
    # CS connect
    
    # server.connect(server_server_address, server_client_address, client_server_address, client_client_address)
    server.online()
    
# set Client
client = NeuralNetworkCS(type='client')

def set_client():
    # CS connect
    
    # client.connect(client_server_address, client_client_address, server_server_address, server_client_address)
    client.online()
    
server_thread = threading.Thread(target=set_server)
client_thread = threading.Thread(target=set_client)

server_thread.start()
client_thread.start()
client_thread.join()
server_thread.join()





import torchvision.transforms as transforms
from torch.utils.data import Subset
from NssMPC.config import NN_path, DEVICE
from NssMPC.config.runtime import PartyRuntime
def server_predict():
    with PartyRuntime(server):
        net = AlexNet()
    
        net.load_state_dict(torch.load('..\data\data\AlexNet\AlexNet_MNIST.pkl'))
        shared_param, shared_param_for_other = share_model(net)
        server.send(shared_param_for_other)
        
        num = server.dummy_model(net)
        net = load_model(net, shared_param)
        while num:
            shared_data = server.receive()
            server.inference(net, shared_data)
            num -= 1
    # close party after inference
    server.close()
    
def client_predict():
    with PartyRuntime(client):
        net = AlexNet()
        transform1 = transforms.Compose([transforms.ToTensor()])
        test_set = torchvision.datasets.MNIST(root=NN_path, train=False, download=True, transform=transform1)
        indices = list(range(5))
        subset_data = Subset(test_set, indices)
        test_loader = torch.utils.data.DataLoader(subset_data, batch_size=1, shuffle=False, num_workers=0)
    
        shared_param = client.receive()
        num = client.dummy_model(test_loader)
        net = load_model(net, shared_param)
        
        for data in test_loader:
            correct = 0
            total = 0
            images, labels = data
    
            images = images.to(DEVICE)
            labels = labels.to(DEVICE)
    
            shared_data, shared_data_for_other = share_data(images)
            client.send(shared_data_for_other)
    
            res = client.inference(net, shared_data)
    
            _, predicted = torch.max(res, 1)
    
            print("Predicted result is: ", predicted)
    
        # close party after inference
    client.close()
    
server_thread = threading.Thread(target=server_predict)
client_thread = threading.Thread(target=client_predict)

server_thread.start()
client_thread.start()
client_thread.join()
server_thread.join()






