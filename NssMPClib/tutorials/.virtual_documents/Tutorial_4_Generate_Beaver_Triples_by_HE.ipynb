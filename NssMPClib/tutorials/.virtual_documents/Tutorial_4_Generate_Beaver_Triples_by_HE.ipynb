


# import libraries
from NssMPC.secure_model.mpc_party import SemiHonestCS
from NssMPC.crypto.aux_parameter import BooleanTriples





import threading

# set Server
server = SemiHonestCS(type='server')

server.set_multiplication_provider()
server.set_comparison_provider()
server.set_nonlinear_operation_provider()

def set_server():
    # CS connect
    server.online()

# set Client
client = SemiHonestCS(type='client')

client.set_multiplication_provider()
client.set_comparison_provider()
client.set_nonlinear_operation_provider()

def set_client():
    # CS connect
    client.online()


server_thread = threading.Thread(target=set_server)
client_thread = threading.Thread(target=set_client)

server_thread.start()
client_thread.start()
client_thread.join()
server_thread.join()





import threading
from NssMPC.crypto.aux_parameter.beaver_triples import AssMulTriples
def server_gen_beaver():
    AssMulTriples.gen_and_save(10, 2,type_of_generation = 'HE',party = server)  # num_of_triples, num_of_party, protocol, party


def client_gen_beaver():
    AssMulTriples.gen_and_save(10, 2,type_of_generation = 'HE',party = client)  # num_of_triples, num_of_party, protocol, party


server_thread = threading.Thread(target=server_gen_beaver)
client_thread = threading.Thread(target=client_gen_beaver)

server_thread.start()
client_thread.start()
client_thread.join()
server_thread.join()





def server_gen_msb_beaver():
    BooleanTriples.gen_and_save(10, 2, type_of_generation = 'HE',party = server)


def client_gen_msb_beaver():
    BooleanTriples.gen_and_save(10, 2, type_of_generation = 'HE',party = client)


server_thread = threading.Thread(target=server_gen_msb_beaver)
client_thread = threading.Thread(target=client_gen_msb_beaver)

server_thread.start()
client_thread.start()
client_thread.join()
server_thread.join()
