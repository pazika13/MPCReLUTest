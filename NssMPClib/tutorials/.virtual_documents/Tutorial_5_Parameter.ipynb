





from NssMPC import RingTensor, ArithmeticSecretSharing

from NssMPC.crypto.aux_parameter import Parameter


class MyParameter(Parameter):
    def __init__(self, a=None, b=None, c=None):
        # What attributes does the parameter contain
        self.attr_a = a
        self.attr_b = b
        self.attr_c = c
    
    @staticmethod
    def gen(num, param0):
        # By what process is this parameter produced
        # An example
        a = RingTensor.random((num,))
        b = RingTensor.convert_to_ring(param0).repeat((num,))
        c = a + b
        a_0, a_1 = ArithmeticSecretSharing.share(a)
        b_0, b_1 = ArithmeticSecretSharing.share(b)
        c_0, c_1 = ArithmeticSecretSharing.share(c)
        return MyParameter(a_0, b_0, c_0), MyParameter(a_1, b_1, c_1)  # A pair of instances should be returned 





MyParameter.gen_and_save(100, 'testParam', 72)





from NssMPC.secure_model.utils.param_provider import ParamProvider
from NssMPC.secure_model.mpc_party import SemiHonestCS

p = SemiHonestCS('client')
p.append_provider(ParamProvider(MyParameter, 'testParam'))
p.online()

my_param = p.get_param(MyParameter, 3)
# do some calculate using my_param



