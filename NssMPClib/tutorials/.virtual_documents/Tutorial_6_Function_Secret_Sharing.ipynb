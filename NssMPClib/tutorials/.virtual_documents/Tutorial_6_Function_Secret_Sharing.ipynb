





# import the libraries
from NssMPC.crypto.primitives import DPF
from NssMPC.crypto.aux_parameter import DPFKey
from NssMPC import RingTensor

num_of_keys = 10  # We need a few keys for a few function values, but of course we can generate many keys in advance.

# generate keys in offline phase
# set alpha and beta
alpha = RingTensor.convert_to_ring(5)
beta = RingTensor.convert_to_ring(1)

Key0, Key1 = DPFKey.gen(num_of_keys=num_of_keys, alpha=alpha, beta=beta)
# online phase
# generate some values what we need to evaluate
x = RingTensor.convert_to_ring([1, 2, 3, 4, 5, 6, 7, 8, 9, 10])
shape=x.shape
x = x.reshape(-1,1)

# Party 0:
res_0 = DPF.eval(x=x, keys=Key0, party_id=0)

# Party 1:
res_1 = DPF.eval(x=x, keys=Key1, party_id=1)

# restore result
res = res_0 + res_1
res=res.reshape(shape)
print(res)

# DPF supports the calculation of values on different sized rings.
# To implement related operations, we need to manually change the ring in which the value is located, i.e. the bit_len of the value.
# For example, all calculations are performed in a ring of size 2^8
alpha = alpha.convert_to_range(bit_len=8)  # can use `alpha.convert_to_range(bit_len=8)` directly
x = x.convert_to_range(bit_len=8)

# generate keys in offline phase
Key0, Key1 = DPFKey.gen(num_of_keys=num_of_keys, alpha=alpha, beta=beta)

# online phase
# Party 0:
res_0 = DPF.eval(x=x, keys=Key0, party_id=0)

# Party 1:
res_1 = DPF.eval(x=x, keys=Key1, party_id=1)

# restore result
res = res_0 + res_1
res=res.reshape(shape)
print(res)





# import the libraries
from NssMPC.crypto.primitives.function_secret_sharing.dcf import DCF
from NssMPC.crypto.aux_parameter import DCFKey
from NssMPC import RingTensor

num_of_keys = 10  # We need a few keys for a few function values, but of course we can generate many keys in advance.

# generate keys in offline phase
# set alpha and beta
alpha = RingTensor.convert_to_ring(5)
beta = RingTensor.convert_to_ring(1)

Key0, Key1 = DCF.gen(num_of_keys=num_of_keys, alpha=alpha, beta=beta)

# online phase
# generate some values what we need to evaluate
x = RingTensor.convert_to_ring([1, 2, 3, 4, 5, 6, 7, 8, 9, 10])

# Party 0:
res_0 = DCF.eval(x=x, keys=Key0, party_id=0)

# Party 1:
res_1 = DCF.eval(x=x, keys=Key1, party_id=1)

# restore result
res = res_0 + res_1
print(res)








# import the libraries
from NssMPC.crypto.primitives.function_secret_sharing.dicf import DICF
from NssMPC.crypto.aux_parameter import DICFKey
from NssMPC import RingTensor

# generate key in offline phase
num_of_keys = 10
down_bound = RingTensor(3)
upper_bound = RingTensor(7)

Key0, Key1 = DICFKey.gen(num_of_keys=num_of_keys, down_bound=down_bound, upper_bound=upper_bound)

# evaluate x in online phase
# generate some values what we need to evaluate
x = RingTensor([1, 2, 3, 4, 5, 6, 7, 8, 9, 10])
x_shift = x + Key0.r_in.reshape(x.shape) + Key1.r_in.reshape(x.shape)

# online phase
# Party 0:
res_0 = DICF.eval(x_shift=x_shift, keys=Key0, party_id=0, down_bound=down_bound, upper_bound=upper_bound)

# Party 1:
res_1 = DICF.eval(x_shift=x_shift, keys=Key1, party_id=1, down_bound=down_bound, upper_bound=upper_bound)

# restore result
res = res_0 + res_1
print(res)





# import the libraries
from NssMPC.crypto.primitives.function_secret_sharing.dicf import GrottoDICF
from NssMPC.crypto.aux_parameter import GrottoDICFKey
from NssMPC import RingTensor

# generate key in offline phase
num_of_keys = 10
down_bound = RingTensor(3)
upper_bound = RingTensor(7)
beta = RingTensor(1)

Key0, Key1 = GrottoDICFKey.gen(num_of_keys=num_of_keys, beta=beta)

# evaluate x in online phase
# generate some values what we need to evaluate
x = RingTensor([1, 2, 3, 4, 5, 6, 7, 8, 9, 10])
x_shift = Key0.r_in.reshape(x.shape) + Key1.r_in.reshape(x.shape) - x

# online phase
# Party 0:
res_0 = GrottoDICF.eval(x_shift=x_shift, key=Key0, party_id=0, down_bound=down_bound, upper_bound=upper_bound)

# Party 1:
res_1 = GrottoDICF.eval(x_shift=x_shift, key=Key1, party_id=1, down_bound=down_bound, upper_bound=upper_bound)

# restore result
res = res_0 ^ res_1
print(res)





# import the libraries
from NssMPC.crypto.primitives.function_secret_sharing.dicf import SigmaDICF
from NssMPC.crypto.aux_parameter import SigmaDICFKey
from NssMPC import RingTensor

# generate key in offline phase
num_of_keys = 10

Key0, Key1 = SigmaDICFKey.gen(num_of_keys=num_of_keys)

# evaluate x in online phase
# generate some values what we need to evaluate
x = RingTensor([-5, -4, -3, -2, -1, 0, 1, 2, 3, 4])
x_shift = Key0.r_in.reshape(x.shape) + Key1.r_in.reshape(x.shape) + x

# online phase
# Party 0:
res_0 = SigmaDICF.eval(x_shift=x_shift, key=Key0, party_id=0)

# Party 1:
res_1 = SigmaDICF.eval(x_shift=x_shift, key=Key1, party_id=1)

# restore result
res = res_0 ^ res_1
print(res)

# 和DPF一样，SIGMADICF支持不同大小的环上的计算。
# The same as DPF, SIGMADICF supports the calculation of values on different rings.
# generate keys in offline phase
Key0, Key1 = SigmaDICFKey.gen(num_of_keys=num_of_keys, bit_len=8)  # set the bit_len to 8

# evaluate x in online phase
x_shift = Key0.r_in.reshape(x.shape) + Key1.r_in.reshape(x.shape) + x
x_shift = x_shift.convert_to_range(bit_len=8)  # need to convert input to the corresponding ring

# Party 0:
res_0 = SigmaDICF.eval(x_shift=x_shift, key=Key0, party_id=0)

# Party 1:
res_1 = SigmaDICF.eval(x_shift=x_shift, key=Key1, party_id=1)

# restore result
res = res_0 ^ res_1
print(res)



